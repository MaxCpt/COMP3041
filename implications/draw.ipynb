{
 "cells": [
  {
   "cell_type": "code",
   "execution_count": 91,
   "metadata": {},
   "outputs": [],
   "source": [
    "import pandas as pd # For reading and manipulating 2D data (like spreadsheets)\n",
    "import numpy as np # For doing numerical calculations (literally NUMerical PYthon)\n",
    "import matplotlib.pyplot as plt # For making graphs"
   ]
  },
  {
   "cell_type": "code",
   "execution_count": 92,
   "metadata": {},
   "outputs": [],
   "source": [
    "def draw(X, Y, ylabel, title, name):\n",
    "    plt.plot(X, Y)\n",
    "    plt.tight_layout(pad=2)\n",
    "    plt.xlabel(\"Year\")\n",
    "    plt.ylabel(ylabel)\n",
    "    plt.title(title)\n",
    "    plt.legend()\n",
    "    plt.savefig(f\"figures/{name}\")\n",
    "    plt.close()"
   ]
  },
  {
   "cell_type": "code",
   "execution_count": 93,
   "metadata": {},
   "outputs": [
    {
     "name": "stderr",
     "output_type": "stream",
     "text": [
      "/var/folders/kc/xbj2q99s7135d7p12_42vy200000gn/T/ipykernel_93060/30391973.py:7: UserWarning: No artists with labels found to put in legend.  Note that artists whose label start with an underscore are ignored when legend() is called with no argument.\n",
      "  plt.legend()\n",
      "/var/folders/kc/xbj2q99s7135d7p12_42vy200000gn/T/ipykernel_93060/30391973.py:7: UserWarning: No artists with labels found to put in legend.  Note that artists whose label start with an underscore are ignored when legend() is called with no argument.\n",
      "  plt.legend()\n",
      "/var/folders/kc/xbj2q99s7135d7p12_42vy200000gn/T/ipykernel_93060/30391973.py:7: UserWarning: No artists with labels found to put in legend.  Note that artists whose label start with an underscore are ignored when legend() is called with no argument.\n",
      "  plt.legend()\n"
     ]
    }
   ],
   "source": [
    "co2_1 = pd.read_csv(r\"data/CO2_1.csv\")\n",
    "draw(co2_1[\"Year\"], co2_1[\"CO2\"], \"CO2 (Tone)\", \"CO2 Emission of Type 1 Net Zero\", \"CO2_1\")\n",
    "co2_2 = pd.read_csv(r\"data/CO2_2.csv\")\n",
    "draw(co2_2[\"Year\"], co2_2[\"CO2\"], \"CO2 (Tone)\", \"CO2 Emission of Type 2 Net Zero\", \"CO2_2\")\n",
    "co2_3 = pd.read_csv(r\"data/CO2_3.csv\")\n",
    "draw(co2_3[\"Year\"], co2_3[\"CO2\"], \"CO2 (Tone)\", \"CO2 Emission of Type 3 Net Zero\", \"CO2_3\")"
   ]
  },
  {
   "cell_type": "code",
   "execution_count": 94,
   "metadata": {},
   "outputs": [
    {
     "name": "stderr",
     "output_type": "stream",
     "text": [
      "/var/folders/kc/xbj2q99s7135d7p12_42vy200000gn/T/ipykernel_93060/30391973.py:7: UserWarning: No artists with labels found to put in legend.  Note that artists whose label start with an underscore are ignored when legend() is called with no argument.\n",
      "  plt.legend()\n",
      "/var/folders/kc/xbj2q99s7135d7p12_42vy200000gn/T/ipykernel_93060/30391973.py:7: UserWarning: No artists with labels found to put in legend.  Note that artists whose label start with an underscore are ignored when legend() is called with no argument.\n",
      "  plt.legend()\n",
      "/var/folders/kc/xbj2q99s7135d7p12_42vy200000gn/T/ipykernel_93060/30391973.py:7: UserWarning: No artists with labels found to put in legend.  Note that artists whose label start with an underscore are ignored when legend() is called with no argument.\n",
      "  plt.legend()\n"
     ]
    }
   ],
   "source": [
    "gdp_1 = pd.read_csv(r\"data/GDP_1.csv\")\n",
    "draw(gdp_1[\"Year\"], gdp_1[\"GDP\"], \"GDP (International Dollars / Capita)\", \"GDP under Type 1 Net Zero\", \"GDP_1\")\n",
    "gdp_2 = pd.read_csv(r\"data/GDP_2.csv\")\n",
    "draw(gdp_2[\"Year\"], gdp_2[\"GDP\"], \"GDP (International Dollars / Capita)\", \"GDP under Type 2 Net Zero\", \"GDP_2\")\n",
    "gdp_3 = pd.read_csv(r\"data/GDP_3.csv\")\n",
    "draw(gdp_3[\"Year\"], gdp_3[\"GDP\"], \"GDP (International Dollars / Capita)\", \"GDP under Type 3 Net Zero\", \"GDP_3\")"
   ]
  },
  {
   "cell_type": "code",
   "execution_count": 95,
   "metadata": {},
   "outputs": [
    {
     "name": "stderr",
     "output_type": "stream",
     "text": [
      "/var/folders/kc/xbj2q99s7135d7p12_42vy200000gn/T/ipykernel_93060/30391973.py:7: UserWarning: No artists with labels found to put in legend.  Note that artists whose label start with an underscore are ignored when legend() is called with no argument.\n",
      "  plt.legend()\n",
      "/var/folders/kc/xbj2q99s7135d7p12_42vy200000gn/T/ipykernel_93060/30391973.py:7: UserWarning: No artists with labels found to put in legend.  Note that artists whose label start with an underscore are ignored when legend() is called with no argument.\n",
      "  plt.legend()\n",
      "/var/folders/kc/xbj2q99s7135d7p12_42vy200000gn/T/ipykernel_93060/30391973.py:7: UserWarning: No artists with labels found to put in legend.  Note that artists whose label start with an underscore are ignored when legend() is called with no argument.\n",
      "  plt.legend()\n"
     ]
    }
   ],
   "source": [
    "ph_1 = pd.read_csv(r\"data/PH_1.csv\")\n",
    "draw(ph_1[\"Year\"], ph_1[\"PH\"], \"PH\", \"Ocean PH under Type 1 Net Zero\", \"PH_1\")\n",
    "ph_2 = pd.read_csv(r\"data/PH_2.csv\")\n",
    "draw(ph_2[\"Year\"], ph_2[\"PH\"], \"PH\", \"Ocean PH under Type 2 Net Zero\", \"PH_2\")\n",
    "ph_3 = pd.read_csv(r\"data/PH_3.csv\")\n",
    "draw(ph_3[\"Year\"], ph_3[\"PH\"], \"PH\", \"Ocean PH under Type 3 Net Zero\", \"PH_3\")"
   ]
  },
  {
   "cell_type": "code",
   "execution_count": 96,
   "metadata": {},
   "outputs": [
    {
     "name": "stderr",
     "output_type": "stream",
     "text": [
      "/var/folders/kc/xbj2q99s7135d7p12_42vy200000gn/T/ipykernel_93060/30391973.py:7: UserWarning: No artists with labels found to put in legend.  Note that artists whose label start with an underscore are ignored when legend() is called with no argument.\n",
      "  plt.legend()\n",
      "/var/folders/kc/xbj2q99s7135d7p12_42vy200000gn/T/ipykernel_93060/30391973.py:7: UserWarning: No artists with labels found to put in legend.  Note that artists whose label start with an underscore are ignored when legend() is called with no argument.\n",
      "  plt.legend()\n",
      "/var/folders/kc/xbj2q99s7135d7p12_42vy200000gn/T/ipykernel_93060/30391973.py:7: UserWarning: No artists with labels found to put in legend.  Note that artists whose label start with an underscore are ignored when legend() is called with no argument.\n",
      "  plt.legend()\n"
     ]
    }
   ],
   "source": [
    "sea_1 = pd.read_csv(r\"data/Sea_1.csv\")\n",
    "draw(sea_1[\"Year\"], sea_1[\"Sea\"], \"Rise (mm)\", \"Sea Level Rise under Type 1 Net Zero\", \"Sea_1\")\n",
    "sea_2 = pd.read_csv(r\"data/Sea_2.csv\")\n",
    "draw(sea_2[\"Year\"], sea_2[\"Sea\"], \"Rise (mm)\", \"Sea Level Rise under Type 2 Net Zero\", \"Sea_2\")\n",
    "sea_3 = pd.read_csv(r\"data/Sea_3.csv\")\n",
    "draw(sea_3[\"Year\"], sea_3[\"Sea\"], \"Rise (mm)\", \"Sea Level Rise under Type 3 Net Zero\", \"Sea_3\")"
   ]
  },
  {
   "cell_type": "code",
   "execution_count": 97,
   "metadata": {},
   "outputs": [
    {
     "name": "stderr",
     "output_type": "stream",
     "text": [
      "/var/folders/kc/xbj2q99s7135d7p12_42vy200000gn/T/ipykernel_93060/30391973.py:7: UserWarning: No artists with labels found to put in legend.  Note that artists whose label start with an underscore are ignored when legend() is called with no argument.\n",
      "  plt.legend()\n",
      "/var/folders/kc/xbj2q99s7135d7p12_42vy200000gn/T/ipykernel_93060/30391973.py:7: UserWarning: No artists with labels found to put in legend.  Note that artists whose label start with an underscore are ignored when legend() is called with no argument.\n",
      "  plt.legend()\n",
      "/var/folders/kc/xbj2q99s7135d7p12_42vy200000gn/T/ipykernel_93060/30391973.py:7: UserWarning: No artists with labels found to put in legend.  Note that artists whose label start with an underscore are ignored when legend() is called with no argument.\n",
      "  plt.legend()\n"
     ]
    }
   ],
   "source": [
    "temp_1 = pd.read_csv(r\"data/Temp_1.csv\")\n",
    "draw(temp_1[\"Year\"], temp_1[\"Temp\"], \"Anomaly (°C)\", \"Surface Temperature Anomaly under Type 1 Net Zero\", \"Temp_1\")\n",
    "temp_2 = pd.read_csv(r\"data/Temp_2.csv\")\n",
    "draw(temp_2[\"Year\"], temp_2[\"Temp\"], \"Anomaly (°C)\", \"Surface Temperature Anomaly under Type 2 Net Zero\", \"Temp_2\")\n",
    "temp_3 = pd.read_csv(r\"data/Temp_3.csv\")\n",
    "draw(temp_3[\"Year\"], temp_3[\"Temp\"], \"Anomaly (°C)\", \"Surface Temperature Anomaly under Type 3 Net Zero\", \"Temp_3\")"
   ]
  },
  {
   "cell_type": "code",
   "execution_count": 98,
   "metadata": {},
   "outputs": [
    {
     "name": "stderr",
     "output_type": "stream",
     "text": [
      "/var/folders/kc/xbj2q99s7135d7p12_42vy200000gn/T/ipykernel_93060/30391973.py:7: UserWarning: No artists with labels found to put in legend.  Note that artists whose label start with an underscore are ignored when legend() is called with no argument.\n",
      "  plt.legend()\n"
     ]
    }
   ],
   "source": [
    "gdp_3 = pd.read_csv(r\"data/GDP_3.csv\")\n",
    "draw(gdp_3[\"Year\"], gdp_3[\"GDP\"], \"GDP (International Dollars / Capita)\", \"GDP under Type 3 Net Zero\", \"GDP_3\")"
   ]
  }
 ],
 "metadata": {
  "kernelspec": {
   "display_name": ".venv",
   "language": "python",
   "name": "python3"
  },
  "language_info": {
   "codemirror_mode": {
    "name": "ipython",
    "version": 3
   },
   "file_extension": ".py",
   "mimetype": "text/x-python",
   "name": "python",
   "nbconvert_exporter": "python",
   "pygments_lexer": "ipython3",
   "version": "3.12.2"
  }
 },
 "nbformat": 4,
 "nbformat_minor": 2
}
