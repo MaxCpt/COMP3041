{
 "cells": [
  {
   "cell_type": "code",
   "execution_count": 10,
   "metadata": {},
   "outputs": [],
   "source": [
    "# import packages\n",
    "import pandas as pd # For reading and manipulating 2D data (like spreadsheets)\n",
    "import numpy as np # For doing numerical calculations (literally NUMerical PYthon)\n",
    "import matplotlib.pyplot as plt # For making graphs\n",
    "\n",
    "from sklearn import datasets, linear_model\n",
    "\n",
    "# Setting to show graphs below cells in colab\n",
    "%matplotlib inline"
   ]
  },
  {
   "cell_type": "code",
   "execution_count": 11,
   "metadata": {},
   "outputs": [
    {
     "data": {
      "text/html": [
       "<div>\n",
       "<style scoped>\n",
       "    .dataframe tbody tr th:only-of-type {\n",
       "        vertical-align: middle;\n",
       "    }\n",
       "\n",
       "    .dataframe tbody tr th {\n",
       "        vertical-align: top;\n",
       "    }\n",
       "\n",
       "    .dataframe thead th {\n",
       "        text-align: right;\n",
       "    }\n",
       "</style>\n",
       "<table border=\"1\" class=\"dataframe\">\n",
       "  <thead>\n",
       "    <tr style=\"text-align: right;\">\n",
       "      <th></th>\n",
       "      <th>Year</th>\n",
       "      <th>Temp</th>\n",
       "      <th>Temp + 0.5</th>\n",
       "      <th>Temp cum</th>\n",
       "      <th>Sea</th>\n",
       "    </tr>\n",
       "  </thead>\n",
       "  <tbody>\n",
       "    <tr>\n",
       "      <th>0</th>\n",
       "      <td>1880</td>\n",
       "      <td>-0.315832</td>\n",
       "      <td>0.184168</td>\n",
       "      <td>0.184168</td>\n",
       "      <td>-180.236283</td>\n",
       "    </tr>\n",
       "    <tr>\n",
       "      <th>1</th>\n",
       "      <td>1881</td>\n",
       "      <td>-0.232246</td>\n",
       "      <td>0.267754</td>\n",
       "      <td>0.451922</td>\n",
       "      <td>-173.039065</td>\n",
       "    </tr>\n",
       "    <tr>\n",
       "      <th>2</th>\n",
       "      <td>1882</td>\n",
       "      <td>-0.295530</td>\n",
       "      <td>0.204470</td>\n",
       "      <td>0.656392</td>\n",
       "      <td>-191.580733</td>\n",
       "    </tr>\n",
       "    <tr>\n",
       "      <th>3</th>\n",
       "      <td>1883</td>\n",
       "      <td>-0.346474</td>\n",
       "      <td>0.153526</td>\n",
       "      <td>0.809918</td>\n",
       "      <td>-190.455727</td>\n",
       "    </tr>\n",
       "    <tr>\n",
       "      <th>4</th>\n",
       "      <td>1884</td>\n",
       "      <td>-0.492320</td>\n",
       "      <td>0.007680</td>\n",
       "      <td>0.817598</td>\n",
       "      <td>-166.597397</td>\n",
       "    </tr>\n",
       "    <tr>\n",
       "      <th>...</th>\n",
       "      <td>...</td>\n",
       "      <td>...</td>\n",
       "      <td>...</td>\n",
       "      <td>...</td>\n",
       "      <td>...</td>\n",
       "    </tr>\n",
       "    <tr>\n",
       "      <th>136</th>\n",
       "      <td>2016</td>\n",
       "      <td>0.932927</td>\n",
       "      <td>1.432927</td>\n",
       "      <td>59.874433</td>\n",
       "      <td>56.330711</td>\n",
       "    </tr>\n",
       "    <tr>\n",
       "      <th>137</th>\n",
       "      <td>2017</td>\n",
       "      <td>0.845174</td>\n",
       "      <td>1.345174</td>\n",
       "      <td>61.219607</td>\n",
       "      <td>55.112391</td>\n",
       "    </tr>\n",
       "    <tr>\n",
       "      <th>138</th>\n",
       "      <td>2018</td>\n",
       "      <td>0.762654</td>\n",
       "      <td>1.262654</td>\n",
       "      <td>62.482262</td>\n",
       "      <td>52.083272</td>\n",
       "    </tr>\n",
       "    <tr>\n",
       "      <th>139</th>\n",
       "      <td>2019</td>\n",
       "      <td>0.891073</td>\n",
       "      <td>1.391073</td>\n",
       "      <td>63.873334</td>\n",
       "      <td>60.980739</td>\n",
       "    </tr>\n",
       "    <tr>\n",
       "      <th>140</th>\n",
       "      <td>2020</td>\n",
       "      <td>0.922921</td>\n",
       "      <td>1.422921</td>\n",
       "      <td>65.296255</td>\n",
       "      <td>65.999737</td>\n",
       "    </tr>\n",
       "  </tbody>\n",
       "</table>\n",
       "<p>141 rows × 5 columns</p>\n",
       "</div>"
      ],
      "text/plain": [
       "     Year      Temp  Temp + 0.5   Temp cum         Sea\n",
       "0    1880 -0.315832    0.184168   0.184168 -180.236283\n",
       "1    1881 -0.232246    0.267754   0.451922 -173.039065\n",
       "2    1882 -0.295530    0.204470   0.656392 -191.580733\n",
       "3    1883 -0.346474    0.153526   0.809918 -190.455727\n",
       "4    1884 -0.492320    0.007680   0.817598 -166.597397\n",
       "..    ...       ...         ...        ...         ...\n",
       "136  2016  0.932927    1.432927  59.874433   56.330711\n",
       "137  2017  0.845174    1.345174  61.219607   55.112391\n",
       "138  2018  0.762654    1.262654  62.482262   52.083272\n",
       "139  2019  0.891073    1.391073  63.873334   60.980739\n",
       "140  2020  0.922921    1.422921  65.296255   65.999737\n",
       "\n",
       "[141 rows x 5 columns]"
      ]
     },
     "execution_count": 11,
     "metadata": {},
     "output_type": "execute_result"
    }
   ],
   "source": [
    "temp = pd.read_csv(r\"../data/Temp.csv\")\n",
    "temp = temp.loc[temp[\"Year\"] >= 1880]\n",
    "temp[\"Temp + 0.5\"] = temp[\"Temp\"] + 0.5\n",
    "temp[\"Temp cum\"] = temp[\"Temp + 0.5\"].cumsum()\n",
    "\n",
    "sea = pd.read_csv(r\"../data/Sea.csv\")\n",
    "sea = sea.loc[sea[\"Year\"] >= 1880]\n",
    "\n",
    "joint = pd.merge(temp, sea, on='Year', how='inner')\n",
    "joint = joint.dropna()\n",
    "\n",
    "joint"
   ]
  },
  {
   "cell_type": "code",
   "execution_count": 12,
   "metadata": {},
   "outputs": [
    {
     "name": "stdout",
     "output_type": "stream",
     "text": [
      "The model [ y = 3.700447906789256 x + -153.95946002003097] has score 0.9636086955306171.\n"
     ]
    }
   ],
   "source": [
    "temp_array = joint[\"Temp cum\"].to_numpy().reshape(-1, 1)\n",
    "sea_array = joint[\"Sea\"].to_numpy().reshape(-1, 1)\n",
    "\n",
    "regr = linear_model.LinearRegression(fit_intercept=True)\n",
    "model_4 = regr.fit(temp_array, sea_array)\n",
    "print(f\"The model [ y = {regr.coef_[0][0]} x + {regr.intercept_[0]}] has score \" + \n",
    "      f\"{regr.score(temp_array, sea_array)}.\")\n"
   ]
  },
  {
   "cell_type": "code",
   "execution_count": 13,
   "metadata": {},
   "outputs": [
    {
     "name": "stderr",
     "output_type": "stream",
     "text": [
      "/var/folders/kc/xbj2q99s7135d7p12_42vy200000gn/T/ipykernel_93367/1597686766.py:3: SettingWithCopyWarning: \n",
      "A value is trying to be set on a copy of a slice from a DataFrame.\n",
      "Try using .loc[row_indexer,col_indexer] = value instead\n",
      "\n",
      "See the caveats in the documentation: https://pandas.pydata.org/pandas-docs/stable/user_guide/indexing.html#returning-a-view-versus-a-copy\n",
      "  temp[\"Temp + 0.5\"] = temp[\"Temp\"] + 0.5\n",
      "/var/folders/kc/xbj2q99s7135d7p12_42vy200000gn/T/ipykernel_93367/1597686766.py:4: SettingWithCopyWarning: \n",
      "A value is trying to be set on a copy of a slice from a DataFrame.\n",
      "Try using .loc[row_indexer,col_indexer] = value instead\n",
      "\n",
      "See the caveats in the documentation: https://pandas.pydata.org/pandas-docs/stable/user_guide/indexing.html#returning-a-view-versus-a-copy\n",
      "  temp[\"Temp cum\"] = temp[\"Temp + 0.5\"].cumsum()\n"
     ]
    },
    {
     "data": {
      "image/png": "[encoded data removed]",
      "text/plain": [
       "<Figure size 640x480 with 1 Axes>"
      ]
     },
     "metadata": {},
     "output_type": "display_data"
    }
   ],
   "source": [
    "def temp_to_sea(temp):\n",
    "    temp = temp.loc[temp[\"Year\"] >= 1880]\n",
    "    temp[\"Temp + 0.5\"] = temp[\"Temp\"] + 0.5\n",
    "    temp[\"Temp cum\"] = temp[\"Temp + 0.5\"].cumsum()\n",
    "    predict_array = model_4.predict(np.array(temp[\"Temp cum\"]).reshape(-1,1)).flatten()\n",
    "\n",
    "    sea_predict = pd.DataFrame(\n",
    "        {\n",
    "            \"Year\": [t for t in range(1880, temp[\"Year\"].values[-1]+1)],\n",
    "            \"Sea\": [h for h in predict_array],\n",
    "        }\n",
    "    )\n",
    "\n",
    "    return sea_predict\n",
    "\n",
    "# inspect the fit in historical data\n",
    "temp = pd.read_csv(r\"../data/Temp.csv\")\n",
    "sea_predict = temp_to_sea(temp)\n",
    "plt.plot(np.asarray(joint[\"Year\"], float), joint[\"Sea\"])\n",
    "plt.plot(np.asarray(sea_predict[\"Year\"], float), sea_predict[\"Sea\"])\n",
    "plt.show()"
   ]
  },
  {
   "cell_type": "code",
   "execution_count": null,
   "metadata": {},
   "outputs": [],
   "source": []
  }
 ],
 "metadata": {
  "kernelspec": {
   "display_name": ".venv",
   "language": "python",
   "name": "python3"
  },
  "language_info": {
   "codemirror_mode": {
    "name": "ipython",
    "version": 3
   },
   "file_extension": ".py",
   "mimetype": "text/x-python",
   "name": "python",
   "nbconvert_exporter": "python",
   "pygments_lexer": "ipython3",
   "version": "3.12.2"
  }
 },
 "nbformat": 4,
 "nbformat_minor": 2
}
