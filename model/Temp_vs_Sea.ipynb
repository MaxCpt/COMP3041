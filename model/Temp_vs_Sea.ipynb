{
 "cells": [
  {
   "cell_type": "code",
   "execution_count": 10,
   "metadata": {},
   "outputs": [],
   "source": [
    "# import packages\n",
    "import pandas as pd # For reading and manipulating 2D data (like spreadsheets)\n",
    "import numpy as np # For doing numerical calculations (literally NUMerical PYthon)\n",
    "import matplotlib.pyplot as plt # For making graphs\n",
    "\n",
    "from sklearn import datasets, linear_model\n",
    "\n",
    "# Setting to show graphs below cells in colab\n",
    "%matplotlib inline"
   ]
  },
  {
   "cell_type": "code",
   "execution_count": 31,
   "metadata": {},
   "outputs": [
    {
     "data": {
      "text/html": [
       "<div>\n",
       "<style scoped>\n",
       "    .dataframe tbody tr th:only-of-type {\n",
       "        vertical-align: middle;\n",
       "    }\n",
       "\n",
       "    .dataframe tbody tr th {\n",
       "        vertical-align: top;\n",
       "    }\n",
       "\n",
       "    .dataframe thead th {\n",
       "        text-align: right;\n",
       "    }\n",
       "</style>\n",
       "<table border=\"1\" class=\"dataframe\">\n",
       "  <thead>\n",
       "    <tr style=\"text-align: right;\">\n",
       "      <th></th>\n",
       "      <th>Year</th>\n",
       "      <th>Temp</th>\n",
       "      <th>Temp cum</th>\n",
       "      <th>Sea</th>\n",
       "    </tr>\n",
       "  </thead>\n",
       "  <tbody>\n",
       "    <tr>\n",
       "      <th>0</th>\n",
       "      <td>1880</td>\n",
       "      <td>-0.315832</td>\n",
       "      <td>-0.315832</td>\n",
       "      <td>-180.236283</td>\n",
       "    </tr>\n",
       "    <tr>\n",
       "      <th>1</th>\n",
       "      <td>1881</td>\n",
       "      <td>-0.232246</td>\n",
       "      <td>-0.548078</td>\n",
       "      <td>-173.039065</td>\n",
       "    </tr>\n",
       "    <tr>\n",
       "      <th>2</th>\n",
       "      <td>1882</td>\n",
       "      <td>-0.295530</td>\n",
       "      <td>-0.843608</td>\n",
       "      <td>-191.580733</td>\n",
       "    </tr>\n",
       "    <tr>\n",
       "      <th>3</th>\n",
       "      <td>1883</td>\n",
       "      <td>-0.346474</td>\n",
       "      <td>-1.190082</td>\n",
       "      <td>-190.455727</td>\n",
       "    </tr>\n",
       "    <tr>\n",
       "      <th>4</th>\n",
       "      <td>1884</td>\n",
       "      <td>-0.492320</td>\n",
       "      <td>-1.682402</td>\n",
       "      <td>-166.597397</td>\n",
       "    </tr>\n",
       "    <tr>\n",
       "      <th>...</th>\n",
       "      <td>...</td>\n",
       "      <td>...</td>\n",
       "      <td>...</td>\n",
       "      <td>...</td>\n",
       "    </tr>\n",
       "    <tr>\n",
       "      <th>136</th>\n",
       "      <td>2016</td>\n",
       "      <td>0.932927</td>\n",
       "      <td>-8.625567</td>\n",
       "      <td>56.330711</td>\n",
       "    </tr>\n",
       "    <tr>\n",
       "      <th>137</th>\n",
       "      <td>2017</td>\n",
       "      <td>0.845174</td>\n",
       "      <td>-7.780393</td>\n",
       "      <td>55.112391</td>\n",
       "    </tr>\n",
       "    <tr>\n",
       "      <th>138</th>\n",
       "      <td>2018</td>\n",
       "      <td>0.762654</td>\n",
       "      <td>-7.017738</td>\n",
       "      <td>52.083272</td>\n",
       "    </tr>\n",
       "    <tr>\n",
       "      <th>139</th>\n",
       "      <td>2019</td>\n",
       "      <td>0.891073</td>\n",
       "      <td>-6.126666</td>\n",
       "      <td>60.980739</td>\n",
       "    </tr>\n",
       "    <tr>\n",
       "      <th>140</th>\n",
       "      <td>2020</td>\n",
       "      <td>0.922921</td>\n",
       "      <td>-5.203745</td>\n",
       "      <td>65.999737</td>\n",
       "    </tr>\n",
       "  </tbody>\n",
       "</table>\n",
       "<p>141 rows × 4 columns</p>\n",
       "</div>"
      ],
      "text/plain": [
       "     Year      Temp  Temp cum         Sea\n",
       "0    1880 -0.315832 -0.315832 -180.236283\n",
       "1    1881 -0.232246 -0.548078 -173.039065\n",
       "2    1882 -0.295530 -0.843608 -191.580733\n",
       "3    1883 -0.346474 -1.190082 -190.455727\n",
       "4    1884 -0.492320 -1.682402 -166.597397\n",
       "..    ...       ...       ...         ...\n",
       "136  2016  0.932927 -8.625567   56.330711\n",
       "137  2017  0.845174 -7.780393   55.112391\n",
       "138  2018  0.762654 -7.017738   52.083272\n",
       "139  2019  0.891073 -6.126666   60.980739\n",
       "140  2020  0.922921 -5.203745   65.999737\n",
       "\n",
       "[141 rows x 4 columns]"
      ]
     },
     "execution_count": 31,
     "metadata": {},
     "output_type": "execute_result"
    }
   ],
   "source": [
    "temp = pd.read_csv(r\"../data/Temp.csv\")\n",
    "temp = temp.loc[temp[\"Year\"] >= 1880]\n",
    "temp[\"Temp cum\"] = temp[\"Temp\"].cumsum()\n",
    "\n",
    "sea = pd.read_csv(r\"../data/Sea.csv\")\n",
    "sea = sea.loc[sea[\"Year\"] >= 1880]\n",
    "\n",
    "joint = pd.merge(temp, sea, on='Year', how='inner')\n",
    "joint = joint.dropna()\n",
    "\n",
    "joint"
   ]
  },
  {
   "cell_type": "code",
   "execution_count": 33,
   "metadata": {},
   "outputs": [
    {
     "name": "stdout",
     "output_type": "stream",
     "text": [
      "The model [ y = 1.7884458990392442 t + 1.7872142826083228 c + -3540.9578454027433] has score 0.9930519787759735.\n"
     ]
    }
   ],
   "source": [
    "year_temp = pd.DataFrame({\"Year\": joint[\"Year\"], \"Temp cum\": joint[\"Temp cum\"]})\n",
    "\n",
    "sea_array = joint[\"Sea\"].to_numpy().reshape(-1, 1)\n",
    "\n",
    "regr = linear_model.LinearRegression(fit_intercept=True)\n",
    "model_4 = regr.fit(year_temp, sea_array)\n",
    "print(f\"The model [ y = {regr.coef_[0][0]} t + {regr.coef_[0][1]} c + {regr.intercept_[0]}] has score \" + \n",
    "      f\"{regr.score(year_temp, sea_array)}.\")\n"
   ]
  },
  {
   "cell_type": "code",
   "execution_count": 34,
   "metadata": {},
   "outputs": [
    {
     "name": "stderr",
     "output_type": "stream",
     "text": [
      "/var/folders/kc/xbj2q99s7135d7p12_42vy200000gn/T/ipykernel_93367/2111342728.py:3: SettingWithCopyWarning: \n",
      "A value is trying to be set on a copy of a slice from a DataFrame.\n",
      "Try using .loc[row_indexer,col_indexer] = value instead\n",
      "\n",
      "See the caveats in the documentation: https://pandas.pydata.org/pandas-docs/stable/user_guide/indexing.html#returning-a-view-versus-a-copy\n",
      "  temp[\"Temp cum\"] = temp[\"Temp\"].cumsum()\n"
     ]
    },
    {
     "data": {
      "image/png": "[encoded data removed]",
      "text/plain": [
       "<Figure size 640x480 with 1 Axes>"
      ]
     },
     "metadata": {},
     "output_type": "display_data"
    }
   ],
   "source": [
    "def temp_to_sea(temp):\n",
    "    temp = temp.loc[temp[\"Year\"] >= 1880]\n",
    "    temp[\"Temp cum\"] = temp[\"Temp\"].cumsum()\n",
    "    year_temp = pd.DataFrame({\"Year\": temp[\"Year\"], \"Temp cum\": temp[\"Temp cum\"]})\n",
    "\n",
    "    predict_array = model_4.predict(year_temp)\n",
    "\n",
    "    sea_predict = pd.DataFrame(\n",
    "        {\n",
    "            \"Year\": [t for t in range(1880, temp[\"Year\"].values[-1]+1)],\n",
    "            \"Sea\": [h for h in predict_array],\n",
    "        }\n",
    "    )\n",
    "\n",
    "    return sea_predict\n",
    "\n",
    "# inspect the fit in historical data\n",
    "temp = pd.read_csv(r\"../data/Temp.csv\")\n",
    "sea_predict = temp_to_sea(temp)\n",
    "plt.plot(np.asarray(joint[\"Year\"], float), joint[\"Sea\"])\n",
    "plt.plot(np.asarray(sea_predict[\"Year\"], float), sea_predict[\"Sea\"])\n",
    "plt.show()"
   ]
  },
  {
   "cell_type": "code",
   "execution_count": null,
   "metadata": {},
   "outputs": [],
   "source": []
  }
 ],
 "metadata": {
  "kernelspec": {
   "display_name": ".venv",
   "language": "python",
   "name": "python3"
  },
  "language_info": {
   "codemirror_mode": {
    "name": "ipython",
    "version": 3
   },
   "file_extension": ".py",
   "mimetype": "text/x-python",
   "name": "python",
   "nbconvert_exporter": "python",
   "pygments_lexer": "ipython3",
   "version": "3.12.2"
  }
 },
 "nbformat": 4,
 "nbformat_minor": 2
}
