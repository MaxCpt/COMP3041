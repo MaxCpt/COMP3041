{
 "cells": [
  {
   "cell_type": "code",
   "execution_count": 2,
   "metadata": {},
   "outputs": [],
   "source": [
    "# import packages\n",
    "import pandas as pd # For reading and manipulating 2D data (like spreadsheets)\n",
    "import numpy as np # For doing numerical calculations (literally NUMerical PYthon)\n",
    "import matplotlib.pyplot as plt # For making graphs\n",
    "\n",
    "from sklearn import datasets, linear_model\n",
    "\n",
    "# Setting to show graphs below cells in colab\n",
    "%matplotlib inline"
   ]
  },
  {
   "cell_type": "code",
   "execution_count": 3,
   "metadata": {},
   "outputs": [
    {
     "data": {
      "text/html": [
       "<div>\n",
       "<style scoped>\n",
       "    .dataframe tbody tr th:only-of-type {\n",
       "        vertical-align: middle;\n",
       "    }\n",
       "\n",
       "    .dataframe tbody tr th {\n",
       "        vertical-align: top;\n",
       "    }\n",
       "\n",
       "    .dataframe thead th {\n",
       "        text-align: right;\n",
       "    }\n",
       "</style>\n",
       "<table border=\"1\" class=\"dataframe\">\n",
       "  <thead>\n",
       "    <tr style=\"text-align: right;\">\n",
       "      <th></th>\n",
       "      <th>Year</th>\n",
       "      <th>CO2</th>\n",
       "      <th>Temp</th>\n",
       "    </tr>\n",
       "  </thead>\n",
       "  <tbody>\n",
       "    <tr>\n",
       "      <th>0</th>\n",
       "      <td>1850</td>\n",
       "      <td>1.967520e+08</td>\n",
       "      <td>-0.417711</td>\n",
       "    </tr>\n",
       "    <tr>\n",
       "      <th>1</th>\n",
       "      <td>1851</td>\n",
       "      <td>1.986681e+08</td>\n",
       "      <td>-0.233350</td>\n",
       "    </tr>\n",
       "    <tr>\n",
       "      <th>2</th>\n",
       "      <td>1852</td>\n",
       "      <td>2.074142e+08</td>\n",
       "      <td>-0.229399</td>\n",
       "    </tr>\n",
       "    <tr>\n",
       "      <th>3</th>\n",
       "      <td>1853</td>\n",
       "      <td>2.171204e+08</td>\n",
       "      <td>-0.270354</td>\n",
       "    </tr>\n",
       "    <tr>\n",
       "      <th>4</th>\n",
       "      <td>1854</td>\n",
       "      <td>2.550332e+08</td>\n",
       "      <td>-0.291521</td>\n",
       "    </tr>\n",
       "    <tr>\n",
       "      <th>...</th>\n",
       "      <td>...</td>\n",
       "      <td>...</td>\n",
       "      <td>...</td>\n",
       "    </tr>\n",
       "    <tr>\n",
       "      <th>168</th>\n",
       "      <td>2018</td>\n",
       "      <td>3.676694e+10</td>\n",
       "      <td>0.762654</td>\n",
       "    </tr>\n",
       "    <tr>\n",
       "      <th>169</th>\n",
       "      <td>2019</td>\n",
       "      <td>3.704010e+10</td>\n",
       "      <td>0.891073</td>\n",
       "    </tr>\n",
       "    <tr>\n",
       "      <th>170</th>\n",
       "      <td>2020</td>\n",
       "      <td>3.500774e+10</td>\n",
       "      <td>0.922921</td>\n",
       "    </tr>\n",
       "    <tr>\n",
       "      <th>171</th>\n",
       "      <td>2021</td>\n",
       "      <td>3.681654e+10</td>\n",
       "      <td>0.761906</td>\n",
       "    </tr>\n",
       "    <tr>\n",
       "      <th>172</th>\n",
       "      <td>2022</td>\n",
       "      <td>3.714979e+10</td>\n",
       "      <td>0.801305</td>\n",
       "    </tr>\n",
       "  </tbody>\n",
       "</table>\n",
       "<p>173 rows × 3 columns</p>\n",
       "</div>"
      ],
      "text/plain": [
       "     Year           CO2      Temp\n",
       "0    1850  1.967520e+08 -0.417711\n",
       "1    1851  1.986681e+08 -0.233350\n",
       "2    1852  2.074142e+08 -0.229399\n",
       "3    1853  2.171204e+08 -0.270354\n",
       "4    1854  2.550332e+08 -0.291521\n",
       "..    ...           ...       ...\n",
       "168  2018  3.676694e+10  0.762654\n",
       "169  2019  3.704010e+10  0.891073\n",
       "170  2020  3.500774e+10  0.922921\n",
       "171  2021  3.681654e+10  0.761906\n",
       "172  2022  3.714979e+10  0.801305\n",
       "\n",
       "[173 rows x 3 columns]"
      ]
     },
     "execution_count": 3,
     "metadata": {},
     "output_type": "execute_result"
    }
   ],
   "source": [
    "co2 = pd.read_csv(r\"../data/CO2.csv\")\n",
    "temp = pd.read_csv(r\"../data/Temp.csv\")\n",
    "\n",
    "joint = pd.merge(co2, temp, on='Year', how='inner')\n",
    "joint = joint.dropna()\n",
    "\n",
    "joint"
   ]
  },
  {
   "cell_type": "code",
   "execution_count": 5,
   "metadata": {},
   "outputs": [
    {
     "name": "stdout",
     "output_type": "stream",
     "text": [
      "The model [ y = 3.0157295144233116e-11 x + -0.3871900244402794] has score 0.8550495062379699.\n"
     ]
    }
   ],
   "source": [
    "co2_array = joint[\"CO2\"].to_numpy().reshape(-1, 1)\n",
    "temp_array = joint[\"Temp\"].to_numpy().reshape(-1, 1)\n",
    "\n",
    "regr = linear_model.LinearRegression(fit_intercept=True)\n",
    "model = regr.fit(co2_array, temp_array)\n",
    "print(f\"The model [ y = {regr.coef_[0][0]} x + {regr.intercept_[0]}] has score \" + \n",
    "      f\"{regr.score(co2_array, temp_array)}.\")\n"
   ]
  }
 ],
 "metadata": {
  "kernelspec": {
   "display_name": ".venv",
   "language": "python",
   "name": "python3"
  },
  "language_info": {
   "codemirror_mode": {
    "name": "ipython",
    "version": 3
   },
   "file_extension": ".py",
   "mimetype": "text/x-python",
   "name": "python",
   "nbconvert_exporter": "python",
   "pygments_lexer": "ipython3",
   "version": "3.12.2"
  }
 },
 "nbformat": 4,
 "nbformat_minor": 2
}
