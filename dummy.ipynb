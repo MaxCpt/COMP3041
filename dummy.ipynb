{
 "cells": [
  {
   "cell_type": "code",
   "execution_count": 3,
   "metadata": {},
   "outputs": [
    {
     "data": {
      "text/plain": [
       "array([ 1., nan])"
      ]
     },
     "execution_count": 3,
     "metadata": {},
     "output_type": "execute_result"
    }
   ],
   "source": [
    "# implications for type 3 net zero\n",
    "co2_3 = pd.read_csv(r\"../net_zero/CO2_3.csv\")\n",
    "co2_array = co2_3[\"CO2\"].to_numpy().reshape(-1, 1)\n",
    "predictions = Predictions(co2_array)\n",
    "\n",
    "\n",
    "plt.plot(np.asarray(gdp[\"Year\"], float), gdp[\"GDP\"], color=\"Green\")\n",
    "plt.plot(np.asarray(co2_3[\"Year\"], float), predictions.gdp)\n",
    "plt.show()\n",
    "\n",
    "plt.plot(np.asarray(ph[\"Year\"], float), ph[\"PH\"], color=\"Green\")\n",
    "plt.plot(np.asarray(co2_3[\"Year\"], float), predictions.ph)\n",
    "plt.show()\n",
    "\n",
    "plt.plot(np.asarray(temp[\"Year\"], float), temp[\"Temp\"], color=\"Green\")\n",
    "plt.plot(np.asarray(co2_3[\"Year\"], float), predictions.temp)\n",
    "plt.show()\n",
    "\n",
    "plt.plot(np.asarray(sea[\"Year\"], float), sea[\"Sea\"], color=\"Green\")\n",
    "plt.plot(np.asarray(co2_3[\"Year\"], float), predictions.sea)\n",
    "plt.show()"
   ]
  }
 ],
 "metadata": {
  "kernelspec": {
   "display_name": ".venv",
   "language": "python",
   "name": "python3"
  },
  "language_info": {
   "codemirror_mode": {
    "name": "ipython",
    "version": 3
   },
   "file_extension": ".py",
   "mimetype": "text/x-python",
   "name": "python",
   "nbconvert_exporter": "python",
   "pygments_lexer": "ipython3",
   "version": "3.12.2"
  }
 },
 "nbformat": 4,
 "nbformat_minor": 2
}
